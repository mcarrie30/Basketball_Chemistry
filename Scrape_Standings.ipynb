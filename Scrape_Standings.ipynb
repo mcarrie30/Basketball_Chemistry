{
 "cells": [
  {
   "cell_type": "code",
   "execution_count": null,
   "metadata": {
    "collapsed": true
   },
   "outputs": [],
   "source": [
    "import requests\n",
    "import feather\n",
    "import pandas as pd\n",
    "import os\n",
    "import string\n",
    "from bs4 import BeautifulSoup\n",
    "from selenium import webdriver\n",
    "from selenium.webdriver.support import expected_conditions as EC\n",
    "from selenium.webdriver.common.by import By\n",
    "from selenium.webdriver.support.ui import WebDriverWait\n",
    "from selenium.webdriver.common.keys import Keys\n",
    "\n",
    "\n",
    "pd.set_option('display.max_columns', None)"
   ]
  },
  {
   "cell_type": "code",
   "execution_count": null,
   "metadata": {
    "collapsed": true
   },
   "outputs": [],
   "source": [
    "chromedriver = \"/usr/local/bin/chromedriver\"\n",
    "driver = webdriver.Chrome(chromedriver)"
   ]
  },
  {
   "cell_type": "code",
   "execution_count": null,
   "metadata": {
    "collapsed": true
   },
   "outputs": [],
   "source": [
    "### Standings Table\n",
    "\n",
    "chromedriver = \"/usr/local/bin/chromedriver\"\n",
    "driver = webdriver.Chrome(chromedriver)\n",
    "standingurl = 'http://www.basketball-reference.com/leagues/NBA_2017_standings.html'\n",
    "driver.get(standingurl)\n",
    "    \n",
    "standing_selector = WebDriverWait(driver, 20).until(\n",
    "               EC.element_to_be_clickable((By.XPATH, '//*[@id=\"all_expanded_standings\"]/div[1]/div/ul/li[1]'))\n",
    "               );\n",
    "standing_selector.click()\n",
    "    \n",
    "standing_selector2 = WebDriverWait(driver, 20).until(\n",
    "               EC.element_to_be_clickable((By.XPATH, '//*[@id=\"share_on_expanded_standings\"]'))\n",
    "               );\n",
    "standing_selector2.click()\n",
    "    \n",
    "standing_selector3 = WebDriverWait(driver, 20).until(\n",
    "               EC.element_to_be_clickable((By.XPATH, '//*[@id=\"commands_expanded_standings\"]/div[4]/button[2]'))\n",
    "               );\n",
    "standing_selector3.click()\n",
    "\n",
    "standing_selector4 = WebDriverWait(driver, 20).until(\n",
    "               EC.element_to_be_clickable((By.XPATH, '//*[@id=\"share\"]/p/input'))\n",
    "               );\n",
    "standing_selector4.click()\n",
    "\n",
    "standing_selector5 = WebDriverWait(driver, 20).until(\n",
    "            EC.element_to_be_clickable((By.XPATH, '//*[@id=\"modal-content\"]/p[1]/strong/a'))\n",
    "            );\n",
    "standing_selector5.click()\n",
    "\n",
    "\n",
    "url = driver.current_url\n",
    "response = requests.get(url)\n",
    "page = response.text\n",
    "soup = BeautifulSoup(page,\"lxml\")\n",
    "                \n",
    "table_headers = [th.getText() for th in soup.findAll('tr', limit=2)[1].findAll('th')]\n",
    "data_rows = soup.findAll('tr')[2:]\n",
    "            \n",
    "team_data = [[td.getText() for td in data_rows[i].findAll('td')] for i in range(len(data_rows))]\n",
    "team_data_02 = []\n",
    "            \n",
    "for i in range(len(data_rows)):\n",
    "    player_row = []\n",
    "            \n",
    "for td in data_rows[i].findAll('td'):        \n",
    "    player_row.append(td.getText())        \n",
    "            \n",
    "team_data_02.append(player_row)\n",
    "teamstandingsdf = pd.DataFrame(team_data, columns=table_headers[1:])"
   ]
  },
  {
   "cell_type": "code",
   "execution_count": null,
   "metadata": {
    "collapsed": true
   },
   "outputs": [],
   "source": [
    "path = 'df2017standings.feather'\n",
    "feather.write_dataframe(teamstandingsdf, path)"
   ]
  }
 ],
 "metadata": {
  "kernelspec": {
   "display_name": "Python [default]",
   "language": "python",
   "name": "python3"
  },
  "language_info": {
   "codemirror_mode": {
    "name": "ipython",
    "version": 3
   },
   "file_extension": ".py",
   "mimetype": "text/x-python",
   "name": "python",
   "nbconvert_exporter": "python",
   "pygments_lexer": "ipython3",
   "version": "3.5.3"
  }
 },
 "nbformat": 4,
 "nbformat_minor": 2
}
