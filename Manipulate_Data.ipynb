{
 "cells": [
  {
   "cell_type": "code",
   "execution_count": null,
   "metadata": {
    "collapsed": true
   },
   "outputs": [],
   "source": [
    "import pandas as pd\n",
    "import matplotlib.pyplot as plt\n",
    "import feather\n",
    "import re\n",
    "import pandas as pd\n",
    "import numpy as np\n",
    "import statsmodels.api as sm\n",
    "import statsmodels.formula.api as smf\n",
    "import patsy\n",
    "import seaborn as sns\n",
    "from seaborn import plt\n",
    "from sklearn.linear_model import LinearRegression\n",
    "from sklearn.linear_model import RidgeCV\n",
    "from sklearn.model_selection import train_test_split\n",
    "\n",
    "\n",
    "pd.set_option('display.max_columns', None)\n",
    "%matplotlib inline"
   ]
  },
  {
   "cell_type": "code",
   "execution_count": null,
   "metadata": {
    "collapsed": true
   },
   "outputs": [],
   "source": [
    "#Load DAta\n",
    "df = feather.read_dataframe('NBA_Player_data_2017.feather')\n",
    "standingsdf = feather.read_dataframe('df2017standings.feather')"
   ]
  },
  {
   "cell_type": "code",
   "execution_count": null,
   "metadata": {
    "collapsed": true
   },
   "outputs": [],
   "source": [
    "#Fix Rows\n",
    "def fix_names(lineup, player):\n",
    "    x = lineup.split('|')[1]\n",
    "    split2 = x.split('. ')[1]\n",
    "    splitj = player.split(' ')[1]\n",
    "    if split2 == splitj:\n",
    "        new_second = lineup.split('|')[0]\n",
    "        new_first = lineup.split('|')[1]\n",
    "        final_list = (new_first+' | '+ new_second)\n",
    "        return final_list\n",
    "    else:\n",
    "        return lineup\n",
    "    \n",
    "df['new_lineup'] = df.apply(lambda row: fix_names(row['Lineup'],row['playername']), axis=1)\n",
    "\n",
    "#Dop Column\n",
    "del df['Lineup']"
   ]
  },
  {
   "cell_type": "code",
   "execution_count": null,
   "metadata": {
    "collapsed": true
   },
   "outputs": [],
   "source": [
    "df.MP = df.MP.map(lambda x: x.replace(':', '.'))"
   ]
  },
  {
   "cell_type": "code",
   "execution_count": null,
   "metadata": {
    "collapsed": true
   },
   "outputs": [],
   "source": [
    "# Fix Column names for machine learning\n",
    "df[['FG','FGA', 'FG%', '3P', '3PA', '3P%', 'eFG%',\n",
    "    'FT', 'FTA', 'FT%', 'PTS', 'ORB', 'ORB%', 'DRB', 'DRB%','TRB',\n",
    "    'TRB%', 'AST', 'STL', 'BLK', 'TOV', 'PF', 'MP']] = df[['FG','FGA', 'FG%',\n",
    "                                                           '3P', '3PA', '3P%', 'eFG%', 'FT', 'FTA', 'FT%',\n",
    "                                                           'PTS', 'ORB', 'ORB%', 'DRB', 'DRB%','TRB', 'TRB%', 'AST',\n",
    "                                                           'STL', 'BLK', 'TOV', 'PF', 'MP']].apply(pd.to_numeric)"
   ]
  },
  {
   "cell_type": "code",
   "execution_count": null,
   "metadata": {
    "collapsed": true
   },
   "outputs": [],
   "source": [
    "# Weed out players who only played garbage minutes\n",
    "df=df[df.MP > 100]\n",
    "\n",
    "def prepare_merge_full():\n",
    "    team_fullname_list = []\n",
    "    for i in standingsdf.Team:\n",
    "        team_fullname_list.append(i)\n",
    "        team_fullname_list.sort()\n",
    "    return team_fullname_list\n",
    "\n",
    "def prepare_merge_abv():\n",
    "    team_abv_list = []\n",
    "    for i in df.Tm.unique():\n",
    "        team_abv_list.append(i)\n",
    "    return team_abv_list\n",
    "\n",
    "team_dictionary = dict(zip(prepare_merge_abv(), prepare_merge_full()))\n",
    "team_dictionary.get('CHI') and team_dictionary.update({'CHI': 'Chicago Bulls'})\n",
    "team_dictionary.get('CHO') and team_dictionary.update({'CHO': 'Charlotte Hornets'})\n",
    "team_dictionary.get('ATL') and team_dictionary.update({'ATL': 'Atlanta Hawks'})\n",
    "team_dictionary.get('BOS') and team_dictionary.update({'BOS': 'Boston Celtics'})\n",
    "team_dictionary.get('BRK') and team_dictionary.update({'BRK': 'Brooklyn Nets'})\n",
    "team_dictionary.get('CLE') and team_dictionary.update({'CLE': 'Cleveland Cavaliers'})\n",
    "team_dictionary.get('DAL') and team_dictionary.update({'DAL': 'Dallas Mavericks'})\n",
    "team_dictionary.get('DEN') and team_dictionary.update({'DEN': 'Denver Nuggets'})\n",
    "team_dictionary.get('DET') and team_dictionary.update({'DET': 'Detroit Pistons'})\n",
    "team_dictionary.get('GSW') and team_dictionary.update({'GSW': 'Golden State Warriors'})\n",
    "team_dictionary.get('HOU') and team_dictionary.update({'HOU': 'Houston Rockets'})\n",
    "team_dictionary.get('IND') and team_dictionary.update({'IND': 'Indiana Pacers'})\n",
    "team_dictionary.get('LAC') and team_dictionary.update({'LAC': 'Los Angeles Clippers'})\n",
    "team_dictionary.get('LAL') and team_dictionary.update({'LAL': 'Los Angeles Lakers'})\n",
    "team_dictionary.get('MEM') and team_dictionary.update({'MEM': 'Memphis Grizzlies'})\n",
    "team_dictionary.get('MIA') and team_dictionary.update({'MIA': 'Miami Heat'})\n",
    "team_dictionary.get('MIL') and team_dictionary.update({'MIL': 'Milwaukee Bucks'})\n",
    "team_dictionary.get('MIN') and team_dictionary.update({'MIN': 'Minnesota Timberwolves'})\n",
    "team_dictionary.get('NYK') and team_dictionary.update({'NYK': 'New York Knicks'})\n",
    "team_dictionary.get('NOP') and team_dictionary.update({'NOP': 'New Orleans Pelicans'})\n",
    "team_dictionary.get('PHI') and team_dictionary.update({'PHI': 'Philadelphia 76ers'})\n",
    "team_dictionary.get('PHO') and team_dictionary.update({'PHO': 'Phoenix Suns'})\n",
    "team_dictionary.get('POR') and team_dictionary.update({'POR': 'Portland Trailblazers'})\n",
    "team_dictionary.get('SAC') and team_dictionary.update({'SAC': 'Sacramento Kings'})\n",
    "team_dictionary.get('SAS') and team_dictionary.update({'SAS': 'San Antonio Spurs'})\n",
    "team_dictionary.get('TOR') and team_dictionary.update({'TOR': 'Toronto Raptors'})\n",
    "team_dictionary.get('UTA') and team_dictionary.update({'UTA': 'Utah Jazz'})\n",
    "team_dictionary.get('WAS') and team_dictionary.update({'WAS': 'Washington Wizards'})\n",
    "team_dictionary.get('OKC') and team_dictionary.update({'OKC': 'Oklahoma City Thunder'})\n",
    "team_dictionary.get('ORL') and team_dictionary.update({'ORL': 'Orlando Magic'})\n",
    "\n",
    "\n",
    "df['Team'] = df['Tm'].map(team_dictionary)\n",
    "\n",
    "#Merge Standings with df\n",
    "standingsdf = standingsdf[['Team', 'Overall']]\n",
    "fulldf = pd.merge(df, standingsdf, on='Team')"
   ]
  },
  {
   "cell_type": "code",
   "execution_count": null,
   "metadata": {
    "collapsed": true
   },
   "outputs": [],
   "source": [
    "# Make Wins and Losses and Percentage columns\n",
    "fulldf['Wins'], fulldf['Losses'] = fulldf['Overall'].str.split('-', 1).str\n",
    "\n",
    "#Change to numeric and convert to total win percentage\n",
    "fulldf[['Wins','Losses']] = fulldf[['Wins','Losses']].apply(pd.to_numeric)\n",
    "fulldf['WinPerc'] = fulldf['Wins'] / (fulldf['Wins'] + fulldf['Losses'])"
   ]
  },
  {
   "cell_type": "code",
   "execution_count": null,
   "metadata": {
    "collapsed": true
   },
   "outputs": [],
   "source": [
    "# Doesn't like some column names -- Change (% and 3)\n",
    "fulldf.rename(columns={'FG%':'FGPERC',\n",
    "                       '3P':'THREEPT',\n",
    "                       '3PA': 'THREEPTA',\n",
    "                       '3P%':'THREEPTPERC',\n",
    "                       'eFG%':'eFGPERC',\n",
    "                       'FT%': 'FTPERC',\n",
    "                      'ORB%' : 'ORBPERC',\n",
    "                      'DRB%' : 'DRBPERC',\n",
    "                      'TRB%' : 'TRBPERC'}, inplace=True)"
   ]
  },
  {
   "cell_type": "code",
   "execution_count": null,
   "metadata": {
    "collapsed": true
   },
   "outputs": [],
   "source": [
    "path = 'NBA_DATA_1.feather'\n",
    "feather.write_dataframe(fulldf, path)"
   ]
  }
 ],
 "metadata": {
  "anaconda-cloud": {},
  "kernelspec": {
   "display_name": "Python [default]",
   "language": "python",
   "name": "python3"
  },
  "language_info": {
   "codemirror_mode": {
    "name": "ipython",
    "version": 3
   },
   "file_extension": ".py",
   "mimetype": "text/x-python",
   "name": "python",
   "nbconvert_exporter": "python",
   "pygments_lexer": "ipython3",
   "version": "3.5.3"
  }
 },
 "nbformat": 4,
 "nbformat_minor": 2
}
